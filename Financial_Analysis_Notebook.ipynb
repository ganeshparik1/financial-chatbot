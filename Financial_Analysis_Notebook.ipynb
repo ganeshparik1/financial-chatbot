{
 "cells": [
  {
   "cell_type": "markdown",
   "id": "f7cd32f3",
   "metadata": {},
   "source": [
    "\n",
    "# Step 1: Data Extraction\n",
    "\n",
    "Navigate to the SEC's EDGAR database to extract financial data for Microsoft, Tesla, and Apple.\n",
    "\n",
    "### Instructions:\n",
    "- For each company, find the 10-K filings for the last three fiscal years.\n",
    "- Extract the following financial figures: \n",
    "    - Total Revenue\n",
    "    - Net Income\n",
    "    - Total Assets\n",
    "    - Total Liabilities\n",
    "    - Cash Flow from Operating Activities\n",
    "- Compile this data into an Excel spreadsheet.\n",
    "\n",
    "### Example Data Structure:\n",
    "| Company | Year | Total Revenue | Net Income | Total Assets | Total Liabilities | Cash Flow from Operations |\n",
    "|---------|------|---------------|------------|--------------|-------------------|---------------------------|\n",
    "| Apple   | 2021 | 365.82B       | 94.68B     | 351.00B      | 287.91B           | 104.04B                    |\n"
   ]
  },
  {
   "cell_type": "markdown",
   "id": "85d227a8",
   "metadata": {},
   "source": [
    "\n",
    "# Step 2: Preparing your Jupyter Notebook Environment\n",
    "\n",
    "### Instructions:\n",
    "1. Install Jupyter using pip:\n",
    "```bash\n",
    "pip install notebook\n",
    "```\n",
    "2. Launch Jupyter Notebook:\n",
    "```bash\n",
    "jupyter notebook\n",
    "```\n",
    "3. In the Jupyter interface, create a new notebook for your analysis.\n"
   ]
  },
  {
   "cell_type": "markdown",
   "id": "caa21504",
   "metadata": {},
   "source": [
    "\n",
    "# Step 3: Python Analysis in Jupyter\n",
    "\n",
    "### Importing pandas\n",
    "First, import the `pandas` library for working with data.\n",
    "\n",
    "```python\n",
    "import pandas as pd\n",
    "```\n",
    "\n",
    "### Loading Your Data\n",
    "Convert your Excel data to CSV for easy access, then load the data using `pandas`.\n",
    "\n",
    "```python\n",
    "# Replace 'path_to_your_csv_file.csv' with the actual path to your CSV file\n",
    "df = pd.read_csv('path_to_your_csv_file.csv')\n",
    "```\n",
    "\n",
    "### Analyzing Trends with pandas\n",
    "We can calculate year-over-year percentage changes for the financial metrics.\n",
    "\n",
    "```python\n",
    "# Example: Calculate Year-Over-Year Revenue Growth by Company\n",
    "df['Revenue Growth (%)'] = df.groupby(['Company'])['Total Revenue'].pct_change() * 100\n",
    "\n",
    "# Similarly, calculate for Net Income\n",
    "df['Net Income Growth (%)'] = df.groupby(['Company'])['Net Income'].pct_change() * 100\n",
    "\n",
    "# Display first few rows of the modified dataframe\n",
    "df.head()\n",
    "```\n"
   ]
  },
  {
   "cell_type": "markdown",
   "id": "6d5f1140",
   "metadata": {},
   "source": [
    "\n",
    "### Summarizing Findings\n",
    "\n",
    "In this section, you'll describe the trends you discovered. For instance, you may note:\n",
    "- Year-over-year changes in revenue and net income for each company.\n",
    "- Any noticeable patterns, such as a consistent growth trend or periods of decline.\n",
    "\n",
    "#### Example Summary:\n",
    "\"Apple's revenue grew by 10% between 2021 and 2022, with net income increasing by 8% over the same period. Tesla, on the other hand, saw a significant jump in net income (50%) between 2020 and 2021.\"\n",
    "\n"
   ]
  },
  {
   "cell_type": "markdown",
   "id": "fc561e9a",
   "metadata": {},
   "source": [
    "\n",
    "# Step 4: Documentation and Submission\n",
    "\n",
    "### Documentation\n",
    "Ensure to document your analysis clearly, explaining your methodology and key insights.\n",
    "\n",
    "### Exporting the Notebook\n",
    "Once your analysis is complete, export the notebook by navigating to **File > Download as > HTML**.\n",
    "\n",
    "You can then submit the HTML file for review.\n"
   ]
  }
 ],
 "metadata": {},
 "nbformat": 4,
 "nbformat_minor": 5
}
